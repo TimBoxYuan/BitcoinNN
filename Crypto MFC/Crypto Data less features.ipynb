{
 "cells": [
  {
   "cell_type": "code",
   "execution_count": 1,
   "metadata": {},
   "outputs": [
    {
     "name": "stdout",
     "output_type": "stream",
     "text": [
      "Requirement already satisfied: quandl in /opt/anaconda3/lib/python3.7/site-packages (3.6.1)\n",
      "Requirement already satisfied: python-dateutil in /opt/anaconda3/lib/python3.7/site-packages (from quandl) (2.8.1)\n",
      "Requirement already satisfied: more-itertools in /opt/anaconda3/lib/python3.7/site-packages (from quandl) (8.2.0)\n",
      "Requirement already satisfied: pandas>=0.14 in /opt/anaconda3/lib/python3.7/site-packages (from quandl) (1.0.1)\n",
      "Requirement already satisfied: inflection>=0.3.1 in /opt/anaconda3/lib/python3.7/site-packages (from quandl) (0.5.1)\n",
      "Requirement already satisfied: numpy>=1.8 in /opt/anaconda3/lib/python3.7/site-packages (from quandl) (1.18.1)\n",
      "Requirement already satisfied: six in /opt/anaconda3/lib/python3.7/site-packages (from quandl) (1.14.0)\n",
      "Requirement already satisfied: requests>=2.7.0 in /opt/anaconda3/lib/python3.7/site-packages (from quandl) (2.22.0)\n",
      "Requirement already satisfied: pytz>=2017.2 in /opt/anaconda3/lib/python3.7/site-packages (from pandas>=0.14->quandl) (2019.3)\n",
      "Requirement already satisfied: certifi>=2017.4.17 in /opt/anaconda3/lib/python3.7/site-packages (from requests>=2.7.0->quandl) (2019.11.28)\n",
      "Requirement already satisfied: chardet<3.1.0,>=3.0.2 in /opt/anaconda3/lib/python3.7/site-packages (from requests>=2.7.0->quandl) (3.0.4)\n",
      "Requirement already satisfied: urllib3!=1.25.0,!=1.25.1,<1.26,>=1.21.1 in /opt/anaconda3/lib/python3.7/site-packages (from requests>=2.7.0->quandl) (1.25.8)\n",
      "Requirement already satisfied: idna<2.9,>=2.5 in /opt/anaconda3/lib/python3.7/site-packages (from requests>=2.7.0->quandl) (2.8)\n",
      "Note: you may need to restart the kernel to use updated packages.\n"
     ]
    }
   ],
   "source": [
    "pip install quandl"
   ]
  },
  {
   "cell_type": "code",
   "execution_count": 2,
   "metadata": {},
   "outputs": [],
   "source": [
    "import quandl\n",
    "import pandas as pd\n",
    "import os\n",
    "import random"
   ]
  },
  {
   "cell_type": "code",
   "execution_count": 3,
   "metadata": {},
   "outputs": [],
   "source": [
    "quandl.ApiConfig.api_key = 'qoZr9QNEwYKyHJymGzEg'"
   ]
  },
  {
   "cell_type": "code",
   "execution_count": 8,
   "metadata": {},
   "outputs": [],
   "source": [
    "Difficulty = quandl.get('BCHAIN/DIFF')\n",
    "Difficulty['Date'] = Difficulty.index\n",
    "\n",
    "Miners_Revenue = quandl.get('BCHAIN/MIREV')\n",
    "Miners_Revenue['Date'] = Miners_Revenue.index\n",
    "\n",
    "Hash_Rate = quandl.get('BCHAIN/HRATE')\n",
    "Hash_Rate['Date'] = Hash_Rate.index\n",
    "\n",
    "\n",
    "Total_Bitcoins = quandl.get('BCHAIN/TOTBC')\n",
    "Total_Bitcoins['Date'] = Total_Bitcoins.index\n",
    "\n",
    "Total_transaction_fees = quandl.get('BCHAIN/TRFEE')\n",
    "Total_transaction_fees['Date'] = Total_transaction_fees.index"
   ]
  },
  {
   "cell_type": "code",
   "execution_count": 9,
   "metadata": {},
   "outputs": [],
   "source": [
    "Date_vec = []\n",
    "for i in Difficulty['Date']:\n",
    "    for j in Miners_Revenue['Date']:\n",
    "        if i == j:\n",
    "            Date_vec.append(i)\n",
    "\n",
    "Date_vec1 = []\n",
    "for i in Hash_Rate['Date']:\n",
    "    for j in Date_vec:\n",
    "        if i == j:\n",
    "            Date_vec1.append(i)\n",
    "\n",
    "\n",
    "Date_vec2 = []\n",
    "for i in Total_Bitcoins['Date']:\n",
    "    for j in Date_vec1:\n",
    "        if i == j:\n",
    "            Date_vec2.append(i)\n",
    "            \n",
    "Date_vec3 = []\n",
    "for i in Total_transaction_fees['Date']:\n",
    "    for j in Date_vec2:\n",
    "        if i == j:\n",
    "            Date_vec3.append(i)\n",
    "            \n"
   ]
  },
  {
   "cell_type": "code",
   "execution_count": 10,
   "metadata": {},
   "outputs": [],
   "source": [
    "Data_Collection = pd.DataFrame()\n",
    "Data_Collection['Difficulty'] = Difficulty.loc[Date_vec3, 'Value']\n",
    "Data_Collection['Miners_Revenue'] = Miners_Revenue.loc[Date_vec3, 'Value']\n",
    "Data_Collection['Hash_Rate'] = Hash_Rate.loc[Date_vec3, 'Value']\n",
    "Data_Collection['Total_transaction_fees'] = Total_transaction_fees.loc[Date_vec3, 'Value']\n",
    "Data_Collection['Total_Bitcoins']= Total_Bitcoins.loc[Date_vec3, 'Value']"
   ]
  },
  {
   "cell_type": "code",
   "execution_count": 16,
   "metadata": {},
   "outputs": [
    {
     "data": {
      "text/plain": [
       "(3416, 5)"
      ]
     },
     "execution_count": 16,
     "metadata": {},
     "output_type": "execute_result"
    }
   ],
   "source": [
    "New_Data_Collection1 = Data_Collection.iloc[1145 : , :]\n",
    "\n",
    "Final_Data_Collection = New_Data_Collection1.fillna(method = 'ffill')\n",
    "Final_Data_Collection = New_Data_Collection1.dropna()\n",
    "Final_Data_Collection.shape"
   ]
  },
  {
   "cell_type": "code",
   "execution_count": 14,
   "metadata": {},
   "outputs": [],
   "source": [
    "Bitcoin_Price = quandl.get('BCHAIN/MKPRU')\n",
    "Bitcoin_Price['Date'] = Bitcoin_Price.index\n",
    "New_Date_Table = pd.DataFrame()\n",
    "New_Date_Table['Date'] = Final_Data_Collection.index\n",
    "Date_vec18 = []\n",
    "for i in New_Date_Table['Date']:\n",
    "    for j in Bitcoin_Price['Date']:\n",
    "        if i == j:\n",
    "            Date_vec18.append(i)"
   ]
  },
  {
   "cell_type": "code",
   "execution_count": 15,
   "metadata": {},
   "outputs": [
    {
     "data": {
      "text/plain": [
       "(3416, 1)"
      ]
     },
     "execution_count": 15,
     "metadata": {},
     "output_type": "execute_result"
    }
   ],
   "source": [
    "Price_Table = pd.DataFrame()\n",
    "Price_Table['Bitcoin_Price'] = Bitcoin_Price.loc[Date_vec18, 'Value']\n",
    "Price_Table.shape"
   ]
  },
  {
   "cell_type": "code",
   "execution_count": 17,
   "metadata": {},
   "outputs": [],
   "source": [
    "Price_Table['Growth'] = (Price_Table['Bitcoin_Price'].shift(-1) - Price_Table['Bitcoin_Price'])/Price_Table['Bitcoin_Price']"
   ]
  },
  {
   "cell_type": "code",
   "execution_count": 18,
   "metadata": {},
   "outputs": [],
   "source": [
    "class_vec = [] #1 is good, 2 is ok, 3 is bad\n",
    "for i in Price_Table['Growth']:\n",
    "    if i >= 0.05:\n",
    "        class_vec.append(1)\n",
    "    elif i < 0:\n",
    "        class_vec.append(3)\n",
    "    else:\n",
    "        class_vec.append(2)\n",
    "Price_Table['Class'] = class_vec"
   ]
  },
  {
   "cell_type": "code",
   "execution_count": 19,
   "metadata": {},
   "outputs": [],
   "source": [
    "Final_Data_Collection['Class'] = Price_Table['Class']\n",
    "Final_Data_Collection.to_csv('/Users/boxtim/Desktop/MFC Summer Project/Crypto MFC/FinalDataCollection_LessFeat.csv')"
   ]
  },
  {
   "cell_type": "code",
   "execution_count": 20,
   "metadata": {},
   "outputs": [
    {
     "data": {
      "text/plain": [
       "(3416, 6)"
      ]
     },
     "execution_count": 20,
     "metadata": {},
     "output_type": "execute_result"
    }
   ],
   "source": [
    "random_index = random.sample(range(0,len(Price_Table)),len(Price_Table))\n",
    "Random_Data = pd.DataFrame()\n",
    "Random_Data = Final_Data_Collection.iloc[random_index,:]\n",
    "Random_Data.shape"
   ]
  },
  {
   "cell_type": "code",
   "execution_count": 21,
   "metadata": {},
   "outputs": [],
   "source": [
    "Train_Data = pd.DataFrame()\n",
    "Train_Data = Random_Data.iloc[0:2100, :]\n",
    "Train_Data.to_csv('/Users/boxtim/Desktop/MFC Summer Project/Crypto MFC/TrainData_LessFeat.csv')\n",
    "#Test_Data\n",
    "Test_Data = pd.DataFrame()\n",
    "Test_Data = Random_Data.iloc[2100:2730,:]\n",
    "Test_Data.to_csv('/Users/boxtim/Desktop/MFC Summer Project/Crypto MFC/TestData_LessFeat.csv')\n",
    "#CV_Data\n",
    "CV_Data = pd.DataFrame()\n",
    "CV_Data = Random_Data.iloc[2730: , :]\n",
    "CV_Data.to_csv('/Users/boxtim/Desktop/MFC Summer Project/Crypto MFC/CVData_LessFeat.csv')"
   ]
  },
  {
   "cell_type": "code",
   "execution_count": null,
   "metadata": {},
   "outputs": [],
   "source": []
  }
 ],
 "metadata": {
  "kernelspec": {
   "display_name": "Python 3",
   "language": "python",
   "name": "python3"
  },
  "language_info": {
   "codemirror_mode": {
    "name": "ipython",
    "version": 3
   },
   "file_extension": ".py",
   "mimetype": "text/x-python",
   "name": "python",
   "nbconvert_exporter": "python",
   "pygments_lexer": "ipython3",
   "version": "3.7.6"
  }
 },
 "nbformat": 4,
 "nbformat_minor": 4
}
