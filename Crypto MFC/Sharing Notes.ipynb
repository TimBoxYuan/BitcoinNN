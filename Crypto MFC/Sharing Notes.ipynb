{
 "cells": [
  {
   "cell_type": "code",
   "execution_count": null,
   "metadata": {},
   "outputs": [],
   "source": [
    "#1.Bitcoin_my_wallet_num_users\n",
    "Bitcoin_my_wallet_num_users = quandl.get(\"BCHAIN/MWNUS\")\n",
    "Bitcoin_my_wallet_num_users = Bitcoin_my_wallet_num_users.fillna(method = 'ffill')\n",
    "Bitcoin_my_wallet_num_users = Bitcoin_my_wallet_num_users .dropna()\n",
    "Bitcoin_my_wallet_num_users .isnull().sum()\n",
    "Bitcoin_my_wallet_num_users['Date'] = Bitcoin_my_wallet_num_users.index\n",
    "Bitcoin_my_wallet_num_users ['MA_2'] = Bitcoin_my_wallet_num_users['Value'].rolling(2).mean()\n",
    "Bitcoin_my_wallet_num_users = Bitcoin_my_wallet_num_users .dropna()\n",
    "Bitcoin_my_wallet_num_users.shape\n",
    "#Bitcoin_my_wallet_num_users.shape\n",
    "#Bitcoin_my_wallet_num_users"
   ]
  },
  {
   "cell_type": "code",
   "execution_count": null,
   "metadata": {},
   "outputs": [],
   "source": [
    "#1.Bitcoin_my_wallet_num_users\n",
    "#2.BitCoin USD Exchange Volume BCHAIN/TRVOU\n",
    "#3. Bitcoin Difficulty BCHAIN/DIFF\n",
    "#4. Bitcoin my wallet num of transaction per day BCHAIN/MWNTD\n",
    "#5. Bitcoin My Wallet Transaction Volume BCHAIN/MWTRV\n",
    "#6. Bitcoin Avg Block Size('BCHAIN/AVBLS')\n",
    "#7. 'BCHAIN/MIREV'\n",
    "#8. BCHAIN/HRATE\n",
    "#9. BCHAIN/CPTRA\n",
    "#10. Bitcoin Cost percentage of Transaction Volume BCHAIN/CPTRV\n",
    "#11. 'BCHAIN/ETRAV'\n",
    "#12. 'BCHAIN/TOUTV'\n",
    "#13. Bitcoin Number of Transaction per Block BCHAIN/NTRBL\n",
    "#14. Bitcoin Number of Unique Addresses Used BCHAIN/NADDU\n",
    "#15. BCHAIN/NTRAN\n",
    "#16. BCHAIN/TRFEE\n",
    "#17. 'BCHAIN/TOTBC'\n",
    "#18.Bitcoin Median Transaction Confirmation Time BCHAIN/ATRCT"
   ]
  },
  {
   "cell_type": "code",
   "execution_count": null,
   "metadata": {},
   "outputs": [],
   "source": []
  },
  {
   "cell_type": "code",
   "execution_count": null,
   "metadata": {},
   "outputs": [],
   "source": [
    "Data_Collection['MA5_Volume'] = Data_Collection['Volume'].rolling(5).mean()"
   ]
  },
  {
   "cell_type": "code",
   "execution_count": null,
   "metadata": {},
   "outputs": [],
   "source": [
    "Data_Collection = pd.DataFrame()\n",
    "Data_Collection['Bitcoin_my_wallet_num_users'] = Bitcoin_my_wallet_num_users.loc[Date_vec17,'MA_5']"
   ]
  },
  {
   "cell_type": "code",
   "execution_count": null,
   "metadata": {},
   "outputs": [],
   "source": [
    "import os\n",
    "working_place = os.getcwd()\n",
    "#'/Users/boxtim/Desktop/MFC Summer Project/Crypto MFC'"
   ]
  },
  {
   "cell_type": "code",
   "execution_count": null,
   "metadata": {},
   "outputs": [],
   "source": []
  },
  {
   "cell_type": "code",
   "execution_count": null,
   "metadata": {},
   "outputs": [],
   "source": []
  },
  {
   "cell_type": "code",
   "execution_count": null,
   "metadata": {},
   "outputs": [],
   "source": []
  },
  {
   "cell_type": "code",
   "execution_count": null,
   "metadata": {},
   "outputs": [],
   "source": []
  },
  {
   "cell_type": "code",
   "execution_count": null,
   "metadata": {},
   "outputs": [],
   "source": [
    "### 06/29/2021\n",
    "### Read CSV files\n",
    "df.to_csv(Specify Path for CSV file\\Filename.csv)\n",
    "import os\n",
    "working_place = os.getcwd() #Find out your working place\n",
    "path_file = working_place + '/file_name.csv'  #could be // for windows check on your own\n",
    "file = pd.read_csv(path_file)"
   ]
  },
  {
   "cell_type": "code",
   "execution_count": null,
   "metadata": {},
   "outputs": [],
   "source": [
    "# Modification Step I: Start Date: 02/22/2021\n",
    "#??? (integer) : end\n",
    "New_Data_Collection1 = Data_Collection.iloc[??? : , :]"
   ]
  },
  {
   "cell_type": "code",
   "execution_count": null,
   "metadata": {},
   "outputs": [],
   "source": [
    "# Modification Step II: Get rid of Wallet_Transaction_Volume\n",
    "del New_Data_Collection1['wallet_transaction_volume']"
   ]
  },
  {
   "cell_type": "code",
   "execution_count": null,
   "metadata": {},
   "outputs": [],
   "source": [
    "Final_Data_Collection = New_Data_Collection1.fillna(method = 'ffill')\n",
    "Final_Data_Collection = New_Data_Collection1.dropna()\n",
    "Final_Data_Collection.isnull().sum()"
   ]
  },
  {
   "cell_type": "code",
   "execution_count": null,
   "metadata": {},
   "outputs": [],
   "source": [
    "#Use this code to check how many non zero values you have in each column\n",
    "\n",
    "df.astype(bool).sum(axis=0)\n",
    "\n",
    "#Try to eliminate all zeros by using the following code"
   ]
  },
  {
   "cell_type": "code",
   "execution_count": null,
   "metadata": {},
   "outputs": [],
   "source": [
    "#Modification Step III: Get rid of the 0 in Volume & wallet_num_transaction \n",
    "#replace 0 with the avg num of last date and the next date\n",
    "volume_vec = []\n",
    "j = 0\n",
    "for i in Final_Data_Collection['Volume']:\n",
    "    if i == 0:\n",
    "        a = (Final_Data_Collection['Volume'][j-1] + Final_Data_Collection['Volume'][j+1]) / 2\n",
    "        volume_vec.append(a)\n",
    "    else:\n",
    "        volume_vec.append(i)\n",
    "    j = j + 1\n",
    "    \n",
    "Final_Data_Collection['Volume'] = volume_vec\n",
    "\n",
    "#2.\n",
    "wallet_num_trans_vec = []\n",
    "j = 0\n",
    "for i in Final_Data_Collection['wallet_num_transaction']:\n",
    "    if i == 0:\n",
    "        a = (Final_Data_Collection['wallet_num_transaction'][j - 1] + Final_Data_Collection['wallet_num_transaction'][j + 1]) / 2\n",
    "        wallet_num_trans_vec.append(a)\n",
    "    else:\n",
    "        wallet_num_trans_vec.append(i)\n",
    "    j = j + 1\n",
    "    \n",
    "Final_Data_Collection['wallet_num_transaction'] = wallet_num_trans_vec"
   ]
  },
  {
   "cell_type": "code",
   "execution_count": null,
   "metadata": {},
   "outputs": [],
   "source": [
    "#Save Data"
   ]
  },
  {
   "cell_type": "code",
   "execution_count": null,
   "metadata": {},
   "outputs": [],
   "source": [
    "###### STEP IV .Start collecting Y (Bitcoin Price) BCHAIN/MKPRU\n",
    "Bitcoin_Price = quandl.get('BCHAIN/MKPRU')\n",
    "Bitcoin_Price['Date'] = Bitcoin_Price.index\n",
    "\n",
    "New_Date_Table = pd.DataFrame()\n",
    "New_Date_Table['Date'] = Final_Data_Collection.index\n",
    "\n",
    "# Date_vec8 == Final_Data_Collection vs Bitcoin Price\n",
    "###!!!!!!!!!! MATCH THE DATE\n",
    "Date_vec8 = [] #Match Date \n",
    "for i in New_Date_Table['Date']:\n",
    "    for j in Bitcoin_Price['Date']:\n",
    "        if i == j:\n",
    "            Date_vec8.append(i)\n",
    "            "
   ]
  },
  {
   "cell_type": "code",
   "execution_count": null,
   "metadata": {},
   "outputs": [],
   "source": [
    "Price_Table = pd.DataFrame() #Start a new data frame for Y value\n",
    "Price_Table['Bitcoin_Price'] = Bitcoin_Price.loc[Date_vec8, 'Value']"
   ]
  },
  {
   "cell_type": "code",
   "execution_count": null,
   "metadata": {},
   "outputs": [],
   "source": [
    "#Calculate Growth: Price tomorrow - price today / price_today\n",
    "Price_Table['Growth'] = (Price_Table['Bitcoin_Price'].shift(-1) - Price_Table['Bitcoin_Price'])/Price_Table['Bitcoin_Price']"
   ]
  },
  {
   "cell_type": "code",
   "execution_count": null,
   "metadata": {},
   "outputs": [],
   "source": [
    "#Classification\n",
    "class_vec = []\n",
    "\n",
    "for i in Price_Table['Growth']:\n",
    "    if i >= 0.1:#good \n",
    "        class_vec.append(1)\n",
    "    elif i <= 0:#bad\n",
    "        class_vec.append(3)\n",
    "    else: #Average and NaN\n",
    "        class_vec.append(2)"
   ]
  },
  {
   "cell_type": "code",
   "execution_count": null,
   "metadata": {},
   "outputs": [],
   "source": [
    "Price_Table['Class'] = class_vec\n",
    "#Save Data"
   ]
  },
  {
   "cell_type": "code",
   "execution_count": null,
   "metadata": {},
   "outputs": [],
   "source": [
    "### ADD Y (Classes) to Final_Data_Collection\n",
    "Final_Data_Collection['Class'] = Price_Table['Class']\n",
    "Final_Data_Collection.to_csv(('/Users/boxtim/Desktop/MFC Summer Project/Crypto MFC/FinalDataCollection.csv'))"
   ]
  },
  {
   "cell_type": "code",
   "execution_count": null,
   "metadata": {},
   "outputs": [],
   "source": [
    "#Create a randomly generated table\n",
    "#Start picking Traning Set, Testing set and CV set\n",
    "random_index = random.sample(range(0,len(Price_Table)),len(Price_Table)) #randomly generate unique numbers\n",
    "Random_Data = pd.DataFrame()\n",
    "Random_Data = Final_Data_Collection.iloc[random_index,:]\n",
    "Random_Data.to_csv('/Users/boxtim/Desktop/MFC Summer Project/Crypto MFC/RandomData.csv')"
   ]
  },
  {
   "cell_type": "code",
   "execution_count": null,
   "metadata": {},
   "outputs": [],
   "source": [
    "#Train_Data\n",
    "Train_Data = pd.DataFrame()\n",
    "Train_Data = Random_Data.iloc[0:2100, :]\n",
    "Train_Data.to_csv('/Users/boxtim/Desktop/MFC Summer Project/Crypto MFC/TrainData.csv')\n",
    "#Test_Data\n",
    "Test_Data = pd.DataFrame()\n",
    "Test_Data = Random_Data.iloc[2100:2530,:]\n",
    "Test_Data.to_csv('/Users/boxtim/Desktop/MFC Summer Project/Crypto MFC/TestData.csv')\n",
    "#CV_Data\n",
    "CV_Data = pd.DataFrame()\n",
    "CV_Data = Random_Data.iloc[2530: , :]\n",
    "CV_Data.to_csv('/Users/boxtim/Desktop/MFC Summer Project/Crypto MFC/CVData.csv')"
   ]
  },
  {
   "cell_type": "code",
   "execution_count": 2,
   "metadata": {},
   "outputs": [
    {
     "name": "stdout",
     "output_type": "stream",
     "text": [
      "Collecting notebook-as-pdf\n",
      "  Downloading notebook_as_pdf-0.5.0-py3-none-any.whl (6.5 kB)\n",
      "Requirement already satisfied, skipping upgrade: nbconvert in /opt/anaconda3/lib/python3.7/site-packages (from notebook-as-pdf) (5.6.1)\n",
      "Collecting PyPDF2\n",
      "  Downloading PyPDF2-1.26.0.tar.gz (77 kB)\n",
      "\u001b[K     |████████████████████████████████| 77 kB 2.4 MB/s eta 0:00:01\n",
      "\u001b[?25hCollecting pyppeteer\n",
      "  Downloading pyppeteer-0.2.5-py3-none-any.whl (87 kB)\n",
      "\u001b[K     |████████████████████████████████| 87 kB 8.5 MB/s  eta 0:00:01\n",
      "\u001b[?25hRequirement already satisfied, skipping upgrade: testpath in /opt/anaconda3/lib/python3.7/site-packages (from nbconvert->notebook-as-pdf) (0.4.4)\n",
      "Requirement already satisfied, skipping upgrade: entrypoints>=0.2.2 in /opt/anaconda3/lib/python3.7/site-packages (from nbconvert->notebook-as-pdf) (0.3)\n",
      "Requirement already satisfied, skipping upgrade: defusedxml in /opt/anaconda3/lib/python3.7/site-packages (from nbconvert->notebook-as-pdf) (0.6.0)\n",
      "Requirement already satisfied, skipping upgrade: bleach in /opt/anaconda3/lib/python3.7/site-packages (from nbconvert->notebook-as-pdf) (3.1.0)\n",
      "Requirement already satisfied, skipping upgrade: jinja2>=2.4 in /opt/anaconda3/lib/python3.7/site-packages (from nbconvert->notebook-as-pdf) (2.11.1)\n",
      "Requirement already satisfied, skipping upgrade: traitlets>=4.2 in /opt/anaconda3/lib/python3.7/site-packages (from nbconvert->notebook-as-pdf) (4.3.3)\n",
      "Requirement already satisfied, skipping upgrade: nbformat>=4.4 in /opt/anaconda3/lib/python3.7/site-packages (from nbconvert->notebook-as-pdf) (5.0.4)\n",
      "Requirement already satisfied, skipping upgrade: pandocfilters>=1.4.1 in /opt/anaconda3/lib/python3.7/site-packages (from nbconvert->notebook-as-pdf) (1.4.2)\n",
      "Requirement already satisfied, skipping upgrade: mistune<2,>=0.8.1 in /opt/anaconda3/lib/python3.7/site-packages (from nbconvert->notebook-as-pdf) (0.8.4)\n",
      "Requirement already satisfied, skipping upgrade: jupyter-core in /opt/anaconda3/lib/python3.7/site-packages (from nbconvert->notebook-as-pdf) (4.6.1)\n",
      "Requirement already satisfied, skipping upgrade: pygments in /opt/anaconda3/lib/python3.7/site-packages (from nbconvert->notebook-as-pdf) (2.5.2)\n",
      "Requirement already satisfied, skipping upgrade: tqdm<5.0.0,>=4.42.1 in /opt/anaconda3/lib/python3.7/site-packages (from pyppeteer->notebook-as-pdf) (4.42.1)\n",
      "Requirement already satisfied, skipping upgrade: urllib3<2.0.0,>=1.25.8 in /opt/anaconda3/lib/python3.7/site-packages (from pyppeteer->notebook-as-pdf) (1.25.8)\n",
      "Collecting websockets<9.0,>=8.1\n",
      "  Downloading websockets-8.1-cp37-cp37m-macosx_10_6_intel.whl (66 kB)\n",
      "\u001b[K     |████████████████████████████████| 66 kB 5.7 MB/s eta 0:00:011\n",
      "\u001b[?25hCollecting pyee<9.0.0,>=8.1.0\n",
      "  Downloading pyee-8.1.0-py2.py3-none-any.whl (12 kB)\n",
      "Collecting importlib-metadata<3.0.0,>=2.1.1; python_version < \"3.8\"\n",
      "  Downloading importlib_metadata-2.1.1-py2.py3-none-any.whl (10 kB)\n",
      "Collecting appdirs<2.0.0,>=1.4.3\n",
      "  Downloading appdirs-1.4.4-py2.py3-none-any.whl (9.6 kB)\n",
      "Requirement already satisfied, skipping upgrade: six>=1.9.0 in /opt/anaconda3/lib/python3.7/site-packages (from bleach->nbconvert->notebook-as-pdf) (1.14.0)\n",
      "Requirement already satisfied, skipping upgrade: webencodings in /opt/anaconda3/lib/python3.7/site-packages (from bleach->nbconvert->notebook-as-pdf) (0.5.1)\n",
      "Requirement already satisfied, skipping upgrade: MarkupSafe>=0.23 in /opt/anaconda3/lib/python3.7/site-packages (from jinja2>=2.4->nbconvert->notebook-as-pdf) (1.1.1)\n",
      "Requirement already satisfied, skipping upgrade: decorator in /opt/anaconda3/lib/python3.7/site-packages (from traitlets>=4.2->nbconvert->notebook-as-pdf) (4.4.1)\n",
      "Requirement already satisfied, skipping upgrade: ipython-genutils in /opt/anaconda3/lib/python3.7/site-packages (from traitlets>=4.2->nbconvert->notebook-as-pdf) (0.2.0)\n",
      "Requirement already satisfied, skipping upgrade: jsonschema!=2.5.0,>=2.4 in /opt/anaconda3/lib/python3.7/site-packages (from nbformat>=4.4->nbconvert->notebook-as-pdf) (3.2.0)\n",
      "Requirement already satisfied, skipping upgrade: zipp>=0.5 in /opt/anaconda3/lib/python3.7/site-packages (from importlib-metadata<3.0.0,>=2.1.1; python_version < \"3.8\"->pyppeteer->notebook-as-pdf) (2.2.0)\n",
      "Requirement already satisfied, skipping upgrade: setuptools in /opt/anaconda3/lib/python3.7/site-packages (from jsonschema!=2.5.0,>=2.4->nbformat>=4.4->nbconvert->notebook-as-pdf) (46.0.0.post20200309)\n",
      "Requirement already satisfied, skipping upgrade: attrs>=17.4.0 in /opt/anaconda3/lib/python3.7/site-packages (from jsonschema!=2.5.0,>=2.4->nbformat>=4.4->nbconvert->notebook-as-pdf) (19.3.0)\n",
      "Requirement already satisfied, skipping upgrade: pyrsistent>=0.14.0 in /opt/anaconda3/lib/python3.7/site-packages (from jsonschema!=2.5.0,>=2.4->nbformat>=4.4->nbconvert->notebook-as-pdf) (0.15.7)\n",
      "Building wheels for collected packages: PyPDF2\n",
      "  Building wheel for PyPDF2 (setup.py) ... \u001b[?25ldone\n",
      "\u001b[?25h  Created wheel for PyPDF2: filename=PyPDF2-1.26.0-py3-none-any.whl size=61084 sha256=75c8954c1e7842e8ee3f2dd46f053c5619e57a57d65e0a0a02c19cfb1ed281c6\n",
      "  Stored in directory: /Users/boxtim/Library/Caches/pip/wheels/80/1a/24/648467ade3a77ed20f35cfd2badd32134e96dd25ca811e64b3\n",
      "Successfully built PyPDF2\n",
      "\u001b[31mERROR: pytest-astropy 0.8.0 requires pytest-cov>=2.0, which is not installed.\u001b[0m\n",
      "\u001b[31mERROR: pytest-astropy 0.8.0 requires pytest-filter-subpackage>=0.1, which is not installed.\u001b[0m\n",
      "Installing collected packages: PyPDF2, websockets, pyee, importlib-metadata, appdirs, pyppeteer, notebook-as-pdf\n",
      "  Attempting uninstall: importlib-metadata\n",
      "    Found existing installation: importlib-metadata 1.5.0\n",
      "    Uninstalling importlib-metadata-1.5.0:\n",
      "      Successfully uninstalled importlib-metadata-1.5.0\n",
      "Successfully installed PyPDF2-1.26.0 appdirs-1.4.4 importlib-metadata-2.1.1 notebook-as-pdf-0.5.0 pyee-8.1.0 pyppeteer-0.2.5 websockets-8.1\n",
      "Note: you may need to restart the kernel to use updated packages.\n"
     ]
    }
   ],
   "source": [
    "pip install -U notebook-as-pdf"
   ]
  },
  {
   "cell_type": "code",
   "execution_count": 5,
   "metadata": {
    "scrolled": true
   },
   "outputs": [
    {
     "name": "stdout",
     "output_type": "stream",
     "text": [
      "Requirement already satisfied: pyppeteer in /opt/anaconda3/lib/python3.7/site-packages (0.2.5)\n",
      "Requirement already satisfied: urllib3<2.0.0,>=1.25.8 in /opt/anaconda3/lib/python3.7/site-packages (from pyppeteer) (1.25.8)\n",
      "Requirement already satisfied: websockets<9.0,>=8.1 in /opt/anaconda3/lib/python3.7/site-packages (from pyppeteer) (8.1)\n",
      "Requirement already satisfied: tqdm<5.0.0,>=4.42.1 in /opt/anaconda3/lib/python3.7/site-packages (from pyppeteer) (4.42.1)\n",
      "Requirement already satisfied: pyee<9.0.0,>=8.1.0 in /opt/anaconda3/lib/python3.7/site-packages (from pyppeteer) (8.1.0)\n",
      "Requirement already satisfied: appdirs<2.0.0,>=1.4.3 in /opt/anaconda3/lib/python3.7/site-packages (from pyppeteer) (1.4.4)\n",
      "Requirement already satisfied: importlib-metadata<3.0.0,>=2.1.1; python_version < \"3.8\" in /opt/anaconda3/lib/python3.7/site-packages (from pyppeteer) (2.1.1)\n",
      "Requirement already satisfied: zipp>=0.5 in /opt/anaconda3/lib/python3.7/site-packages (from importlib-metadata<3.0.0,>=2.1.1; python_version < \"3.8\"->pyppeteer) (2.2.0)\n",
      "Note: you may need to restart the kernel to use updated packages.\n"
     ]
    }
   ],
   "source": [
    "pip install pyppeteer"
   ]
  },
  {
   "cell_type": "code",
   "execution_count": 7,
   "metadata": {},
   "outputs": [
    {
     "name": "stdout",
     "output_type": "stream",
     "text": [
      "\u001b[31mERROR: Could not find a version that satisfies the requirement apt.txt (from versions: none)\u001b[0m\n",
      "\u001b[31mERROR: No matching distribution found for apt.txt\u001b[0m\n",
      "Note: you may need to restart the kernel to use updated packages.\n"
     ]
    }
   ],
   "source": []
  },
  {
   "cell_type": "code",
   "execution_count": null,
   "metadata": {},
   "outputs": [],
   "source": []
  }
 ],
 "metadata": {
  "kernelspec": {
   "display_name": "Python 3",
   "language": "python",
   "name": "python3"
  },
  "language_info": {
   "codemirror_mode": {
    "name": "ipython",
    "version": 3
   },
   "file_extension": ".py",
   "mimetype": "text/x-python",
   "name": "python",
   "nbconvert_exporter": "python",
   "pygments_lexer": "ipython3",
   "version": "3.7.6"
  }
 },
 "nbformat": 4,
 "nbformat_minor": 4
}
